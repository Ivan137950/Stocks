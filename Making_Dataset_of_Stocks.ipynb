{
  "nbformat": 4,
  "nbformat_minor": 0,
  "metadata": {
    "colab": {
      "provenance": [],
      "authorship_tag": "ABX9TyNTmpHQUu7tY1da/VBV2XTW",
      "include_colab_link": true
    },
    "kernelspec": {
      "name": "python3",
      "display_name": "Python 3"
    },
    "language_info": {
      "name": "python"
    }
  },
  "cells": [
    {
      "cell_type": "markdown",
      "metadata": {
        "id": "view-in-github",
        "colab_type": "text"
      },
      "source": [
        "<a href=\"https://colab.research.google.com/github/Ivan137950/Stocks/blob/main/Making_Dataset_of_Stocks.ipynb\" target=\"_parent\"><img src=\"https://colab.research.google.com/assets/colab-badge.svg\" alt=\"Open In Colab\"/></a>"
      ]
    },
    {
      "cell_type": "markdown",
      "source": [
        "Зададим модуль для считывания данных с портала мосбиржи"
      ],
      "metadata": {
        "id": "QIN1ep2qDNhP"
      }
    },
    {
      "cell_type": "code",
      "source": [
        "import requests\n",
        "from datetime import datetime, timedelta\n",
        "import pandas as pd\n"
      ],
      "metadata": {
        "id": "VVH9HmUPDcSl"
      },
      "execution_count": 1,
      "outputs": []
    },
    {
      "cell_type": "code",
      "source": [
        "j = requests.get('https://iss.moex.com/iss/securities.json?q=Yandex').json()\n",
        "data = [{k : r[i] for i, k in enumerate(j['securities']['columns'])} for r in j['securities']['data']]\n",
        "print(pd.DataFrame(data))"
      ],
      "metadata": {
        "colab": {
          "base_uri": "https://localhost:8080/"
        },
        "id": "m-e7Vi3LDde_",
        "outputId": "32446883-b503-4e4b-9fcd-b84587aa30d2",
        "collapsed": true
      },
      "execution_count": 2,
      "outputs": [
        {
          "output_type": "stream",
          "name": "stdout",
          "text": [
            "          id         secid   shortname     regnumber  \\\n",
            "0  427994427          YDEX      ЯНДЕКС  1-01-16777-A   \n",
            "1  429364997          YDH5   YDEX-3.25          None   \n",
            "2  430418817          YDM5   YDEX-6.25          None   \n",
            "3      69458          YNDX  Yandex clA          None   \n",
            "4  428928395          YDU4   YDEX-9.24          None   \n",
            "5  428928397          YDZ4  YDEX-12.24          None   \n",
            "6  413635407  XS2126193379     YNDX-25          None   \n",
            "\n",
            "                             name          isin  is_traded  emitent_id  \\\n",
            "0                    МКПАО ЯНДЕКС  RU000A107T19          1       15523   \n",
            "1   Фьючерсный контракт YDEX-3.25          None          1       15523   \n",
            "2   Фьючерсный контракт YDEX-6.25          None          1       15523   \n",
            "3    PLLC Yandex N.V. class A shs  NL0009805522          0        6822   \n",
            "4   Фьючерсный контракт YDEX-9.24          None          0       15523   \n",
            "5  Фьючерсный контракт YDEX-12.24          None          0       15523   \n",
            "6       Yandex N.V. 0.75 03/03/25  XS2126193379          0        6822   \n",
            "\n",
            "                                       emitent_title emitent_inn emitent_okpo  \\\n",
            "0  Международная компания публичное акционерное о...  3900019850         None   \n",
            "1  Международная компания публичное акционерное о...  3900019850         None   \n",
            "2  Международная компания публичное акционерное о...  3900019850         None   \n",
            "3                                  Nebius Group N.V.  0010034514         None   \n",
            "4  Международная компания публичное акционерное о...  3900019850         None   \n",
            "5  Международная компания публичное акционерное о...  3900019850         None   \n",
            "6                                  Nebius Group N.V.  0010034514         None   \n",
            "\n",
            "         gosreg            type          group primary_boardid  \\\n",
            "0  1-01-16777-A    common_share   stock_shares            TQBR   \n",
            "1          None         futures  futures_forts            RFUD   \n",
            "2          None         futures  futures_forts            RFUD   \n",
            "3          None    common_share   stock_shares            TQBR   \n",
            "4          None         futures  futures_forts            RFUD   \n",
            "5          None         futures  futures_forts            RFUD   \n",
            "6          None  corporate_bond    stock_bonds            OCTR   \n",
            "\n",
            "  marketprice_boardid  \n",
            "0                TQBR  \n",
            "1                None  \n",
            "2                None  \n",
            "3                TQBR  \n",
            "4                None  \n",
            "5                None  \n",
            "6                None  \n"
          ]
        }
      ]
    },
    {
      "cell_type": "markdown",
      "source": [
        "Проверим работу, выведем графики цен акций четырех компаний\n"
      ],
      "metadata": {
        "id": "98dUrYw3JguM"
      }
    },
    {
      "cell_type": "code",
      "source": [
        "from matplotlib import pyplot as plt\n",
        "\n",
        "codes = ['SBER', 'T', 'MOEX', 'GMKN']\n",
        "for code in codes:\n",
        "  j = requests.get('http://iss.moex.com/iss/engines/stock/markets/shares/securities/' + code + '/candles.json?from=2025-01-19till=2025-01-20').json()\n",
        "  data = [{k : r[i] for i, k in enumerate(j['candles']['columns'])} for r in j['candles']['data']]\n",
        "  frame = pd.DataFrame(data)\n",
        "  plt.plot(list(frame['close']), 'b')\n",
        "  plt.title(code)\n",
        "  plt.grid()\n",
        "  plt.savefig(code + \".png\")\n",
        "  plt.show()\n",
        "  # print(data)"
      ],
      "metadata": {
        "colab": {
          "base_uri": "https://localhost:8080/",
          "height": 1000
        },
        "id": "_Xc_aHuqLWjL",
        "outputId": "30e2394a-c479-48cd-ad91-91bda6c42c30"
      },
      "execution_count": 3,
      "outputs": [
        {
          "output_type": "display_data",
          "data": {
            "text/plain": [
              "<Figure size 640x480 with 1 Axes>"
            ],
            "image/png": "[encoded data removed]"
          },
          "metadata": {}
        },
        {
          "output_type": "display_data",
          "data": {
            "text/plain": [
              "<Figure size 640x480 with 1 Axes>"
            ],
            "image/png": "[encoded data removed]"
          },
          "metadata": {}
        },
        {
          "output_type": "display_data",
          "data": {
            "text/plain": [
              "<Figure size 640x480 with 1 Axes>"
            ],
            "image/png": "[encoded data removed]"
          },
          "metadata": {}
        },
        {
          "output_type": "display_data",
          "data": {
            "text/plain": [
              "<Figure size 640x480 with 1 Axes>"
            ],
            "image/png": "[encoded data removed]"
          },
          "metadata": {}
        }
      ]
    },
    {
      "cell_type": "code",
      "source": [
        "pd.DataFrame(data)"
      ],
      "metadata": {
        "colab": {
          "base_uri": "https://localhost:8080/",
          "height": 424
        },
        "id": "P1E2txr-Ik0U",
        "outputId": "5c0ba952-1483-4029-a5c2-6abe302be45a"
      },
      "execution_count": 4,
      "outputs": [
        {
          "output_type": "execute_result",
          "data": {
            "text/plain": [
              "       open   close    high     low        value   volume  \\\n",
              "0    126.40  126.40  126.40  126.40   17160064.0   135760   \n",
              "1    126.30  126.66  127.00  126.10  280901521.6  2219470   \n",
              "2    126.64  126.90  126.90  125.70  310961539.4  2463210   \n",
              "3    126.88  127.80  127.98  126.74  256219371.0  2013400   \n",
              "4    127.86  127.98  128.48  127.44  574695642.0  4489250   \n",
              "..      ...     ...     ...     ...          ...      ...   \n",
              "495  119.90  119.84  120.26  119.82   16715371.6   139320   \n",
              "496  119.90  120.08  120.28  119.90   15764714.8   131210   \n",
              "497  120.12  120.20  120.24  120.06    3376180.8    28100   \n",
              "498  120.18  120.16  120.24  120.08    5597364.8    46580   \n",
              "499  120.10  119.82  120.16  119.80    6631583.6    55270   \n",
              "\n",
              "                   begin                  end  \n",
              "0    2025-01-20 09:50:00  2025-01-20 09:59:59  \n",
              "1    2025-01-20 10:00:00  2025-01-20 10:09:59  \n",
              "2    2025-01-20 10:10:00  2025-01-20 10:19:59  \n",
              "3    2025-01-20 10:20:00  2025-01-20 10:29:59  \n",
              "4    2025-01-20 10:30:00  2025-01-20 10:39:59  \n",
              "..                   ...                  ...  \n",
              "495  2025-01-27 20:20:00  2025-01-27 20:29:59  \n",
              "496  2025-01-27 20:30:00  2025-01-27 20:39:59  \n",
              "497  2025-01-27 20:40:00  2025-01-27 20:49:59  \n",
              "498  2025-01-27 20:50:00  2025-01-27 20:59:59  \n",
              "499  2025-01-27 21:00:00  2025-01-27 21:09:59  \n",
              "\n",
              "[500 rows x 8 columns]"
            ],
            "text/html": [
              "\n",
              "  <div id=\"df-9ae94285-61cd-4b1a-af40-ec3f39a8f897\" class=\"colab-df-container\">\n",
              "    <div>\n",
              "<style scoped>\n",
              "    .dataframe tbody tr th:only-of-type {\n",
              "        vertical-align: middle;\n",
              "    }\n",
              "\n",
              "    .dataframe tbody tr th {\n",
              "        vertical-align: top;\n",
              "    }\n",
              "\n",
              "    .dataframe thead th {\n",
              "        text-align: right;\n",
              "    }\n",
              "</style>\n",
              "<table border=\"1\" class=\"dataframe\">\n",
              "  <thead>\n",
              "    <tr style=\"text-align: right;\">\n",
              "      <th></th>\n",
              "      <th>open</th>\n",
              "      <th>close</th>\n",
              "      <th>high</th>\n",
              "      <th>low</th>\n",
              "      <th>value</th>\n",
              "      <th>volume</th>\n",
              "      <th>begin</th>\n",
              "      <th>end</th>\n",
              "    </tr>\n",
              "  </thead>\n",
              "  <tbody>\n",
              "    <tr>\n",
              "      <th>0</th>\n",
              "      <td>126.40</td>\n",
              "      <td>126.40</td>\n",
              "      <td>126.40</td>\n",
              "      <td>126.40</td>\n",
              "      <td>17160064.0</td>\n",
              "      <td>135760</td>\n",
              "      <td>2025-01-20 09:50:00</td>\n",
              "      <td>2025-01-20 09:59:59</td>\n",
              "    </tr>\n",
              "    <tr>\n",
              "      <th>1</th>\n",
              "      <td>126.30</td>\n",
              "      <td>126.66</td>\n",
              "      <td>127.00</td>\n",
              "      <td>126.10</td>\n",
              "      <td>280901521.6</td>\n",
              "      <td>2219470</td>\n",
              "      <td>2025-01-20 10:00:00</td>\n",
              "      <td>2025-01-20 10:09:59</td>\n",
              "    </tr>\n",
              "    <tr>\n",
              "      <th>2</th>\n",
              "      <td>126.64</td>\n",
              "      <td>126.90</td>\n",
              "      <td>126.90</td>\n",
              "      <td>125.70</td>\n",
              "      <td>310961539.4</td>\n",
              "      <td>2463210</td>\n",
              "      <td>2025-01-20 10:10:00</td>\n",
              "      <td>2025-01-20 10:19:59</td>\n",
              "    </tr>\n",
              "    <tr>\n",
              "      <th>3</th>\n",
              "      <td>126.88</td>\n",
              "      <td>127.80</td>\n",
              "      <td>127.98</td>\n",
              "      <td>126.74</td>\n",
              "      <td>256219371.0</td>\n",
              "      <td>2013400</td>\n",
              "      <td>2025-01-20 10:20:00</td>\n",
              "      <td>2025-01-20 10:29:59</td>\n",
              "    </tr>\n",
              "    <tr>\n",
              "      <th>4</th>\n",
              "      <td>127.86</td>\n",
              "      <td>127.98</td>\n",
              "      <td>128.48</td>\n",
              "      <td>127.44</td>\n",
              "      <td>574695642.0</td>\n",
              "      <td>4489250</td>\n",
              "      <td>2025-01-20 10:30:00</td>\n",
              "      <td>2025-01-20 10:39:59</td>\n",
              "    </tr>\n",
              "    <tr>\n",
              "      <th>...</th>\n",
              "      <td>...</td>\n",
              "      <td>...</td>\n",
              "      <td>...</td>\n",
              "      <td>...</td>\n",
              "      <td>...</td>\n",
              "      <td>...</td>\n",
              "      <td>...</td>\n",
              "      <td>...</td>\n",
              "    </tr>\n",
              "    <tr>\n",
              "      <th>495</th>\n",
              "      <td>119.90</td>\n",
              "      <td>119.84</td>\n",
              "      <td>120.26</td>\n",
              "      <td>119.82</td>\n",
              "      <td>16715371.6</td>\n",
              "      <td>139320</td>\n",
              "      <td>2025-01-27 20:20:00</td>\n",
              "      <td>2025-01-27 20:29:59</td>\n",
              "    </tr>\n",
              "    <tr>\n",
              "      <th>496</th>\n",
              "      <td>119.90</td>\n",
              "      <td>120.08</td>\n",
              "      <td>120.28</td>\n",
              "      <td>119.90</td>\n",
              "      <td>15764714.8</td>\n",
              "      <td>131210</td>\n",
              "      <td>2025-01-27 20:30:00</td>\n",
              "      <td>2025-01-27 20:39:59</td>\n",
              "    </tr>\n",
              "    <tr>\n",
              "      <th>497</th>\n",
              "      <td>120.12</td>\n",
              "      <td>120.20</td>\n",
              "      <td>120.24</td>\n",
              "      <td>120.06</td>\n",
              "      <td>3376180.8</td>\n",
              "      <td>28100</td>\n",
              "      <td>2025-01-27 20:40:00</td>\n",
              "      <td>2025-01-27 20:49:59</td>\n",
              "    </tr>\n",
              "    <tr>\n",
              "      <th>498</th>\n",
              "      <td>120.18</td>\n",
              "      <td>120.16</td>\n",
              "      <td>120.24</td>\n",
              "      <td>120.08</td>\n",
              "      <td>5597364.8</td>\n",
              "      <td>46580</td>\n",
              "      <td>2025-01-27 20:50:00</td>\n",
              "      <td>2025-01-27 20:59:59</td>\n",
              "    </tr>\n",
              "    <tr>\n",
              "      <th>499</th>\n",
              "      <td>120.10</td>\n",
              "      <td>119.82</td>\n",
              "      <td>120.16</td>\n",
              "      <td>119.80</td>\n",
              "      <td>6631583.6</td>\n",
              "      <td>55270</td>\n",
              "      <td>2025-01-27 21:00:00</td>\n",
              "      <td>2025-01-27 21:09:59</td>\n",
              "    </tr>\n",
              "  </tbody>\n",
              "</table>\n",
              "<p>500 rows × 8 columns</p>\n",
              "</div>\n",
              "    <div class=\"colab-df-buttons\">\n",
              "\n",
              "  <div class=\"colab-df-container\">\n",
              "    <button class=\"colab-df-convert\" onclick=\"convertToInteractive('df-9ae94285-61cd-4b1a-af40-ec3f39a8f897')\"\n",
              "            title=\"Convert this dataframe to an interactive table.\"\n",
              "            style=\"display:none;\">\n",
              "\n",
              "  <svg xmlns=\"http://www.w3.org/2000/svg\" height=\"24px\" viewBox=\"0 -960 960 960\">\n",
              "    <path d=\"M120-120v-720h720v720H120Zm60-500h600v-160H180v160Zm220 220h160v-160H400v160Zm0 220h160v-160H400v160ZM180-400h160v-160H180v160Zm440 0h160v-160H620v160ZM180-180h160v-160H180v160Zm440 0h160v-160H620v160Z\"/>\n",
              "  </svg>\n",
              "    </button>\n",
              "\n",
              "  <style>\n",
              "    .colab-df-container {\n",
              "      display:flex;\n",
              "      gap: 12px;\n",
              "    }\n",
              "\n",
              "    .colab-df-convert {\n",
              "      background-color: #E8F0FE;\n",
              "      border: none;\n",
              "      border-radius: 50%;\n",
              "      cursor: pointer;\n",
              "      display: none;\n",
              "      fill: #1967D2;\n",
              "      height: 32px;\n",
              "      padding: 0 0 0 0;\n",
              "      width: 32px;\n",
              "    }\n",
              "\n",
              "    .colab-df-convert:hover {\n",
              "      background-color: #E2EBFA;\n",
              "      box-shadow: 0px 1px 2px rgba(60, 64, 67, 0.3), 0px 1px 3px 1px rgba(60, 64, 67, 0.15);\n",
              "      fill: #174EA6;\n",
              "    }\n",
              "\n",
              "    .colab-df-buttons div {\n",
              "      margin-bottom: 4px;\n",
              "    }\n",
              "\n",
              "    [theme=dark] .colab-df-convert {\n",
              "      background-color: #3B4455;\n",
              "      fill: #D2E3FC;\n",
              "    }\n",
              "\n",
              "    [theme=dark] .colab-df-convert:hover {\n",
              "      background-color: #434B5C;\n",
              "      box-shadow: 0px 1px 3px 1px rgba(0, 0, 0, 0.15);\n",
              "      filter: drop-shadow(0px 1px 2px rgba(0, 0, 0, 0.3));\n",
              "      fill: #FFFFFF;\n",
              "    }\n",
              "  </style>\n",
              "\n",
              "    <script>\n",
              "      const buttonEl =\n",
              "        document.querySelector('#df-9ae94285-61cd-4b1a-af40-ec3f39a8f897 button.colab-df-convert');\n",
              "      buttonEl.style.display =\n",
              "        google.colab.kernel.accessAllowed ? 'block' : 'none';\n",
              "\n",
              "      async function convertToInteractive(key) {\n",
              "        const element = document.querySelector('#df-9ae94285-61cd-4b1a-af40-ec3f39a8f897');\n",
              "        const dataTable =\n",
              "          await google.colab.kernel.invokeFunction('convertToInteractive',\n",
              "                                                    [key], {});\n",
              "        if (!dataTable) return;\n",
              "\n",
              "        const docLinkHtml = 'Like what you see? Visit the ' +\n",
              "          '<a target=\"_blank\" href=https://colab.research.google.com/notebooks/data_table.ipynb>data table notebook</a>'\n",
              "          + ' to learn more about interactive tables.';\n",
              "        element.innerHTML = '';\n",
              "        dataTable['output_type'] = 'display_data';\n",
              "        await google.colab.output.renderOutput(dataTable, element);\n",
              "        const docLink = document.createElement('div');\n",
              "        docLink.innerHTML = docLinkHtml;\n",
              "        element.appendChild(docLink);\n",
              "      }\n",
              "    </script>\n",
              "  </div>\n",
              "\n",
              "\n",
              "<div id=\"df-b1cdb022-2ba2-42d7-be1d-85fe9bfe57fb\">\n",
              "  <button class=\"colab-df-quickchart\" onclick=\"quickchart('df-b1cdb022-2ba2-42d7-be1d-85fe9bfe57fb')\"\n",
              "            title=\"Suggest charts\"\n",
              "            style=\"display:none;\">\n",
              "\n",
              "<svg xmlns=\"http://www.w3.org/2000/svg\" height=\"24px\"viewBox=\"0 0 24 24\"\n",
              "     width=\"24px\">\n",
              "    <g>\n",
              "        <path d=\"M19 3H5c-1.1 0-2 .9-2 2v14c0 1.1.9 2 2 2h14c1.1 0 2-.9 2-2V5c0-1.1-.9-2-2-2zM9 17H7v-7h2v7zm4 0h-2V7h2v10zm4 0h-2v-4h2v4z\"/>\n",
              "    </g>\n",
              "</svg>\n",
              "  </button>\n",
              "\n",
              "<style>\n",
              "  .colab-df-quickchart {\n",
              "      --bg-color: #E8F0FE;\n",
              "      --fill-color: #1967D2;\n",
              "      --hover-bg-color: #E2EBFA;\n",
              "      --hover-fill-color: #174EA6;\n",
              "      --disabled-fill-color: #AAA;\n",
              "      --disabled-bg-color: #DDD;\n",
              "  }\n",
              "\n",
              "  [theme=dark] .colab-df-quickchart {\n",
              "      --bg-color: #3B4455;\n",
              "      --fill-color: #D2E3FC;\n",
              "      --hover-bg-color: #434B5C;\n",
              "      --hover-fill-color: #FFFFFF;\n",
              "      --disabled-bg-color: #3B4455;\n",
              "      --disabled-fill-color: #666;\n",
              "  }\n",
              "\n",
              "  .colab-df-quickchart {\n",
              "    background-color: var(--bg-color);\n",
              "    border: none;\n",
              "    border-radius: 50%;\n",
              "    cursor: pointer;\n",
              "    display: none;\n",
              "    fill: var(--fill-color);\n",
              "    height: 32px;\n",
              "    padding: 0;\n",
              "    width: 32px;\n",
              "  }\n",
              "\n",
              "  .colab-df-quickchart:hover {\n",
              "    background-color: var(--hover-bg-color);\n",
              "    box-shadow: 0 1px 2px rgba(60, 64, 67, 0.3), 0 1px 3px 1px rgba(60, 64, 67, 0.15);\n",
              "    fill: var(--button-hover-fill-color);\n",
              "  }\n",
              "\n",
              "  .colab-df-quickchart-complete:disabled,\n",
              "  .colab-df-quickchart-complete:disabled:hover {\n",
              "    background-color: var(--disabled-bg-color);\n",
              "    fill: var(--disabled-fill-color);\n",
              "    box-shadow: none;\n",
              "  }\n",
              "\n",
              "  .colab-df-spinner {\n",
              "    border: 2px solid var(--fill-color);\n",
              "    border-color: transparent;\n",
              "    border-bottom-color: var(--fill-color);\n",
              "    animation:\n",
              "      spin 1s steps(1) infinite;\n",
              "  }\n",
              "\n",
              "  @keyframes spin {\n",
              "    0% {\n",
              "      border-color: transparent;\n",
              "      border-bottom-color: var(--fill-color);\n",
              "      border-left-color: var(--fill-color);\n",
              "    }\n",
              "    20% {\n",
              "      border-color: transparent;\n",
              "      border-left-color: var(--fill-color);\n",
              "      border-top-color: var(--fill-color);\n",
              "    }\n",
              "    30% {\n",
              "      border-color: transparent;\n",
              "      border-left-color: var(--fill-color);\n",
              "      border-top-color: var(--fill-color);\n",
              "      border-right-color: var(--fill-color);\n",
              "    }\n",
              "    40% {\n",
              "      border-color: transparent;\n",
              "      border-right-color: var(--fill-color);\n",
              "      border-top-color: var(--fill-color);\n",
              "    }\n",
              "    60% {\n",
              "      border-color: transparent;\n",
              "      border-right-color: var(--fill-color);\n",
              "    }\n",
              "    80% {\n",
              "      border-color: transparent;\n",
              "      border-right-color: var(--fill-color);\n",
              "      border-bottom-color: var(--fill-color);\n",
              "    }\n",
              "    90% {\n",
              "      border-color: transparent;\n",
              "      border-bottom-color: var(--fill-color);\n",
              "    }\n",
              "  }\n",
              "</style>\n",
              "\n",
              "  <script>\n",
              "    async function quickchart(key) {\n",
              "      const quickchartButtonEl =\n",
              "        document.querySelector('#' + key + ' button');\n",
              "      quickchartButtonEl.disabled = true;  // To prevent multiple clicks.\n",
              "      quickchartButtonEl.classList.add('colab-df-spinner');\n",
              "      try {\n",
              "        const charts = await google.colab.kernel.invokeFunction(\n",
              "            'suggestCharts', [key], {});\n",
              "      } catch (error) {\n",
              "        console.error('Error during call to suggestCharts:', error);\n",
              "      }\n",
              "      quickchartButtonEl.classList.remove('colab-df-spinner');\n",
              "      quickchartButtonEl.classList.add('colab-df-quickchart-complete');\n",
              "    }\n",
              "    (() => {\n",
              "      let quickchartButtonEl =\n",
              "        document.querySelector('#df-b1cdb022-2ba2-42d7-be1d-85fe9bfe57fb button');\n",
              "      quickchartButtonEl.style.display =\n",
              "        google.colab.kernel.accessAllowed ? 'block' : 'none';\n",
              "    })();\n",
              "  </script>\n",
              "</div>\n",
              "    </div>\n",
              "  </div>\n"
            ],
            "application/vnd.google.colaboratory.intrinsic+json": {
              "type": "dataframe",
              "summary": "{\n  \"name\": \"pd\",\n  \"rows\": 500,\n  \"fields\": [\n    {\n      \"column\": \"open\",\n      \"properties\": {\n        \"dtype\": \"number\",\n        \"std\": 1.6765061842927815,\n        \"min\": 119.3,\n        \"max\": 128.52,\n        \"num_unique_values\": 221,\n        \"samples\": [\n          125.56,\n          123.52,\n          122.06\n        ],\n        \"semantic_type\": \"\",\n        \"description\": \"\"\n      }\n    },\n    {\n      \"column\": \"close\",\n      \"properties\": {\n        \"dtype\": \"number\",\n        \"std\": 1.6849860978357651,\n        \"min\": 119.28,\n        \"max\": 128.5,\n        \"num_unique_values\": 228,\n        \"samples\": [\n          119.92,\n          123.72,\n          126.92\n        ],\n        \"semantic_type\": \"\",\n        \"description\": \"\"\n      }\n    },\n    {\n      \"column\": \"high\",\n      \"properties\": {\n        \"dtype\": \"number\",\n        \"std\": 1.6955714776061017,\n        \"min\": 119.76,\n        \"max\": 128.86,\n        \"num_unique_values\": 216,\n        \"samples\": [\n          121.66,\n          120.26,\n          123.32\n        ],\n        \"semantic_type\": \"\",\n        \"description\": \"\"\n      }\n    },\n    {\n      \"column\": \"low\",\n      \"properties\": {\n        \"dtype\": \"number\",\n        \"std\": 1.6642510076406334,\n        \"min\": 118.74,\n        \"max\": 127.66,\n        \"num_unique_values\": 228,\n        \"samples\": [\n          119.9,\n          123.84,\n          126.7\n        ],\n        \"semantic_type\": \"\",\n        \"description\": \"\"\n      }\n    },\n    {\n      \"column\": \"value\",\n      \"properties\": {\n        \"dtype\": \"number\",\n        \"std\": 49853093.81051389,\n        \"min\": 570164.8,\n        \"max\": 574695641.9999999,\n        \"num_unique_values\": 500,\n        \"samples\": [\n          40872213.8,\n          16861889.6,\n          46378997.6\n        ],\n        \"semantic_type\": \"\",\n        \"description\": \"\"\n      }\n    },\n    {\n      \"column\": \"volume\",\n      \"properties\": {\n        \"dtype\": \"number\",\n        \"std\": 395855,\n        \"min\": 4610,\n        \"max\": 4489250,\n        \"num_unique_values\": 499,\n        \"samples\": [\n          101780,\n          135900,\n          142940\n        ],\n        \"semantic_type\": \"\",\n        \"description\": \"\"\n      }\n    },\n    {\n      \"column\": \"begin\",\n      \"properties\": {\n        \"dtype\": \"object\",\n        \"num_unique_values\": 500,\n        \"samples\": [\n          \"2025-01-24 14:40:00\",\n          \"2025-01-20 22:10:00\",\n          \"2025-01-24 16:50:00\"\n        ],\n        \"semantic_type\": \"\",\n        \"description\": \"\"\n      }\n    },\n    {\n      \"column\": \"end\",\n      \"properties\": {\n        \"dtype\": \"object\",\n        \"num_unique_values\": 500,\n        \"samples\": [\n          \"2025-01-24 14:49:59\",\n          \"2025-01-20 22:19:59\",\n          \"2025-01-24 16:59:59\"\n        ],\n        \"semantic_type\": \"\",\n        \"description\": \"\"\n      }\n    }\n  ]\n}"
            }
          },
          "metadata": {},
          "execution_count": 4
        }
      ]
    },
    {
      "cell_type": "markdown",
      "source": [
        "Выше были примеры работы с ***MOEX*** при помощи модуля *reqest*. Теперь сделем датасеты для каждой из копаний.**API Moex** ограничивает количество\n",
        "возвращаемых данных (не более 500, что явно мало для обучения модели), поэтому придётся делать много запросов."
      ],
      "metadata": {
        "id": "fiwl1v6LxFcD"
      }
    },
    {
      "cell_type": "code",
      "source": [
        "def concat_data(stocks: str) -> pd.DataFrame: #Данные по акциям stocks за последние 4 года (208 недель)\n",
        "  today = datetime.now()\n",
        "  #  - timedelta(days=1)\n",
        "  df = pd.DataFrame()\n",
        "  for _ in range(208):\n",
        "    yesterday = today - timedelta(days=7)\n",
        "\n",
        "    today_str = str(today)[:10]\n",
        "    yesterday_str = str(yesterday)[:10]\n",
        "\n",
        "    j = requests.get('http://iss.moex.com/iss/engines/stock/markets/shares/securities/' + stocks + '/candles.json?from=' + yesterday_str + '&till=' + today_str).json()\n",
        "    data = [{k : r[i] for i, k in enumerate(j['candles']['columns'])} for r in j['candles']['data']]\n",
        "    frame = pd.DataFrame(data)\n",
        "\n",
        "    today = yesterday\n",
        "    df = pd.concat([df, pd.DataFrame(data)])\n",
        "  return df"
      ],
      "metadata": {
        "id": "NaAv2OIeHCdv"
      },
      "execution_count": 5,
      "outputs": []
    },
    {
      "cell_type": "code",
      "source": [
        "codes = ['SBER', 'T', 'MOEX', 'YNDX', 'GMKN', 'AFLT', 'BANE', 'MSNG', 'LENT', 'LKOH', 'LVHK', 'MRSB', 'FEES']"
      ],
      "metadata": {
        "id": "p2G-NtfOVZ5T"
      },
      "execution_count": 6,
      "outputs": []
    },
    {
      "cell_type": "code",
      "source": [
        "import numpy as np"
      ],
      "metadata": {
        "id": "r54xLI5-m3PE"
      },
      "execution_count": 7,
      "outputs": []
    },
    {
      "cell_type": "code",
      "source": [
        "frames = {}\n",
        "for code in codes:\n",
        "  frame = concat_data(code)\n",
        "  # if len(frame) > 8e5:\n",
        "  frames[code] = np.array(list(frame['close'])[::-1])\n",
        "  print(code)"
      ],
      "metadata": {
        "colab": {
          "base_uri": "https://localhost:8080/"
        },
        "id": "gSbYdLTlH0jE",
        "outputId": "d5f226df-07cd-45a8-cdcc-a017f1d30fde"
      },
      "execution_count": 8,
      "outputs": [
        {
          "output_type": "stream",
          "name": "stdout",
          "text": [
            "SBER\n",
            "T\n",
            "MOEX\n",
            "YNDX\n",
            "GMKN\n",
            "AFLT\n",
            "BANE\n",
            "MSNG\n",
            "LENT\n",
            "LKOH\n",
            "LVHK\n",
            "MRSB\n",
            "FEES\n"
          ]
        }
      ]
    },
    {
      "cell_type": "markdown",
      "source": [
        "Перекинем данные в файлы"
      ],
      "metadata": {
        "id": "XOPG4Q2BHaY6"
      }
    },
    {
      "cell_type": "code",
      "source": [
        "for code in codes: #В качестве входных данных будут приниматься значения акций\n",
        "  with open(code + '_Data.txt', 'w') as f:\n",
        "    for price in frames[code]:\n",
        "      f.write(str(price) + '\\n')"
      ],
      "metadata": {
        "id": "B5roLQ29HXrO"
      },
      "execution_count": 9,
      "outputs": []
    },
    {
      "cell_type": "markdown",
      "source": [
        "Есть несколько вариантов, как строить наборы лейблов.\n",
        "1.   Хочу узнать, будет ли в ближайшем будущем акция дороже, чем сейчас (например, подорожают ли они на не менее чем 2% в ближайшие 160 измерений или же за 20 часов), т.е. будет ли ***x[i] + 0.02 * x[i] < max(x[i+1, i+100])***\n",
        "2. Наступит ли ***продолжительный*** период в ***ближайшем будущем***, когда акции станут дороже, чем сейчас? Допустим, мы будем под \"***ближайшем будущем***\" рассматривать 160 измерений, а под \"***продолжительным периодом***\" будем подразумевать период длительностью хотя бы 18 измерений.\n",
        "\n",
        "\n"
      ],
      "metadata": {
        "id": "q2XRvvMGZ7lB"
      }
    },
    {
      "cell_type": "code",
      "source": [
        "for code in codes: #строим лейблы по первой метрике\n",
        "  with open(code + '_label_first_metric.txt', 'w') as f:\n",
        "    frame = frames[code]\n",
        "    for i in range(len(frame) - 160):\n",
        "      f.write(f'{1 if 1.02 * frame[i] < max(frame[i+1:i+160]) else 0}' + '\\n')"
      ],
      "metadata": {
        "id": "rAmfMpeFdMYe"
      },
      "execution_count": 10,
      "outputs": []
    },
    {
      "cell_type": "code",
      "source": [
        "def max_len(array: float, x: float) -> int:\n",
        "  flag = 0\n",
        "  maximum = 0\n",
        "  for i in range(len(array)):\n",
        "    if array[i] - x > 0:\n",
        "      flag += 1\n",
        "      if flag > maximum:\n",
        "        maximum = flag\n",
        "    else:\n",
        "      flag = 0\n",
        "  return maximum"
      ],
      "metadata": {
        "id": "GascdvhtlAlm"
      },
      "execution_count": 11,
      "outputs": []
    },
    {
      "cell_type": "code",
      "source": [
        "for code in codes: #строим лейблы по второй метрике\n",
        "  with open(code + '_label_second_metric.txt', 'w') as f:\n",
        "    frame = frames[code]\n",
        "    minimums = []\n",
        "    for i in range(len(frame) - 160):\n",
        "      minimums.append(max_len(frame[i + 1 : i + 160], frame[i]))\n",
        "      f.write(f'{1 if minimums[i] >= 18 else 0}' + '\\n')"
      ],
      "metadata": {
        "id": "NmMC0YzGd-ve"
      },
      "execution_count": 12,
      "outputs": []
    },
    {
      "cell_type": "code",
      "source": [
        "import os\n",
        "\n",
        "def move_all_to_dir(name_of_dir: str):\n",
        "  os.system('mkdir ' + name_of_dir)\n",
        "  codes = ['SBER', 'T', 'MOEX', 'YNDX', 'GMKN', 'AFLT', 'BANE', 'MSNG', 'LENT', 'LKOH', 'LVHK', 'MRSB', 'FEES']\n",
        "  for code in codes:\n",
        "    file_name = code + '_' + name_of_dir + '.txt'\n",
        "    print(file_name)\n",
        "    os.system(\"mv \" + file_name + r\" \" + name_of_dir)\n"
      ],
      "metadata": {
        "id": "HDKA8pJoUpjN"
      },
      "execution_count": 13,
      "outputs": []
    },
    {
      "cell_type": "code",
      "source": [
        "names_of_dirs = ['Data' ,'label_first_metric' ,'label_second_metric']\n",
        "for name in names_of_dirs:\n",
        "  move_all_to_dir(name)"
      ],
      "metadata": {
        "colab": {
          "base_uri": "https://localhost:8080/"
        },
        "id": "pOkXU4miXl4E",
        "outputId": "64b49dba-3cc3-4a65-971e-bdd4e4d69c6a"
      },
      "execution_count": 14,
      "outputs": [
        {
          "output_type": "stream",
          "name": "stdout",
          "text": [
            "SBER_Data.txt\n",
            "T_Data.txt\n",
            "MOEX_Data.txt\n",
            "YNDX_Data.txt\n",
            "GMKN_Data.txt\n",
            "AFLT_Data.txt\n",
            "BANE_Data.txt\n",
            "MSNG_Data.txt\n",
            "LENT_Data.txt\n",
            "LKOH_Data.txt\n",
            "LVHK_Data.txt\n",
            "MRSB_Data.txt\n",
            "FEES_Data.txt\n",
            "SBER_label_first_metric.txt\n",
            "T_label_first_metric.txt\n",
            "MOEX_label_first_metric.txt\n",
            "YNDX_label_first_metric.txt\n",
            "GMKN_label_first_metric.txt\n",
            "AFLT_label_first_metric.txt\n",
            "BANE_label_first_metric.txt\n",
            "MSNG_label_first_metric.txt\n",
            "LENT_label_first_metric.txt\n",
            "LKOH_label_first_metric.txt\n",
            "LVHK_label_first_metric.txt\n",
            "MRSB_label_first_metric.txt\n",
            "FEES_label_first_metric.txt\n",
            "SBER_label_second_metric.txt\n",
            "T_label_second_metric.txt\n",
            "MOEX_label_second_metric.txt\n",
            "YNDX_label_second_metric.txt\n",
            "GMKN_label_second_metric.txt\n",
            "AFLT_label_second_metric.txt\n",
            "BANE_label_second_metric.txt\n",
            "MSNG_label_second_metric.txt\n",
            "LENT_label_second_metric.txt\n",
            "LKOH_label_second_metric.txt\n",
            "LVHK_label_second_metric.txt\n",
            "MRSB_label_second_metric.txt\n",
            "FEES_label_second_metric.txt\n"
          ]
        }
      ]
    },
    {
      "cell_type": "markdown",
      "source": [
        "Создадим итоговую папку DATA со всеми данными"
      ],
      "metadata": {
        "id": "RQbTo9a_elN7"
      }
    },
    {
      "cell_type": "code",
      "source": [
        "final_dir = 'DATA'\n",
        "os.system('mkdir ' + final_dir)\n",
        "for name in names_of_dirs:\n",
        "  os.system(\"mv \" + name + r\" \" + final_dir)"
      ],
      "metadata": {
        "id": "vdq8pmD9eCDF"
      },
      "execution_count": 15,
      "outputs": []
    },
    {
      "cell_type": "markdown",
      "source": [
        "Сжатие до zip файла и скачивание итогового результата"
      ],
      "metadata": {
        "id": "AQfPcaJTgNAh"
      }
    },
    {
      "cell_type": "code",
      "source": [
        "import shutil\n",
        "shutil.make_archive(final_dir, 'zip', final_dir)"
      ],
      "metadata": {
        "id": "Ody3UPgKfOuF",
        "outputId": "11d13a6f-e16a-40dc-f602-ea9424e4b7f5",
        "colab": {
          "base_uri": "https://localhost:8080/",
          "height": 35
        }
      },
      "execution_count": 16,
      "outputs": [
        {
          "output_type": "execute_result",
          "data": {
            "text/plain": [
              "'/content/DATA.zip'"
            ],
            "application/vnd.google.colaboratory.intrinsic+json": {
              "type": "string"
            }
          },
          "metadata": {},
          "execution_count": 16
        }
      ]
    },
    {
      "cell_type": "code",
      "source": [
        "from google.colab import files\n",
        "files.download(\"/content/DATA.zip\")"
      ],
      "metadata": {
        "colab": {
          "base_uri": "https://localhost:8080/",
          "height": 17
        },
        "id": "JnXvuKUogFEh",
        "outputId": "e7e7036a-bce4-4341-c95c-2112b21e24fd"
      },
      "execution_count": 17,
      "outputs": [
        {
          "output_type": "display_data",
          "data": {
            "text/plain": [
              "<IPython.core.display.Javascript object>"
            ],
            "application/javascript": [
              "\n",
              "    async function download(id, filename, size) {\n",
              "      if (!google.colab.kernel.accessAllowed) {\n",
              "        return;\n",
              "      }\n",
              "      const div = document.createElement('div');\n",
              "      const label = document.createElement('label');\n",
              "      label.textContent = `Downloading \"${filename}\": `;\n",
              "      div.appendChild(label);\n",
              "      const progress = document.createElement('progress');\n",
              "      progress.max = size;\n",
              "      div.appendChild(progress);\n",
              "      document.body.appendChild(div);\n",
              "\n",
              "      const buffers = [];\n",
              "      let downloaded = 0;\n",
              "\n",
              "      const channel = await google.colab.kernel.comms.open(id);\n",
              "      // Send a message to notify the kernel that we're ready.\n",
              "      channel.send({})\n",
              "\n",
              "      for await (const message of channel.messages) {\n",
              "        // Send a message to notify the kernel that we're ready.\n",
              "        channel.send({})\n",
              "        if (message.buffers) {\n",
              "          for (const buffer of message.buffers) {\n",
              "            buffers.push(buffer);\n",
              "            downloaded += buffer.byteLength;\n",
              "            progress.value = downloaded;\n",
              "          }\n",
              "        }\n",
              "      }\n",
              "      const blob = new Blob(buffers, {type: 'application/binary'});\n",
              "      const a = document.createElement('a');\n",
              "      a.href = window.URL.createObjectURL(blob);\n",
              "      a.download = filename;\n",
              "      div.appendChild(a);\n",
              "      a.click();\n",
              "      div.remove();\n",
              "    }\n",
              "  "
            ]
          },
          "metadata": {}
        },
        {
          "output_type": "display_data",
          "data": {
            "text/plain": [
              "<IPython.core.display.Javascript object>"
            ],
            "application/javascript": [
              "download(\"download_9539b51e-3421-4fe1-9d58-a1eca1fa89f0\", \"DATA.zip\", 1431899)"
            ]
          },
          "metadata": {}
        }
      ]
    }
  ]
}